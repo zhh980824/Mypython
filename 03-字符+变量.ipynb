{
 "cells": [
  {
   "cell_type": "markdown",
   "metadata": {},
   "source": [
    "# 字符串\n",
    "- 转义字符\n",
    "- 格式化\n",
    "- 内建函数（后延）\n",
    "\n",
    "## 转义字符\n",
    "- 用一个特殊的方法表示出一系列不方便写出的内容，例如回车，换行，退格\n",
    "- 借助反斜杠，一旦字符串中有反斜杠的出现，就有可能后面有转义字符的出现\n",
    "- 不同系统对换行操作有不同表示\n",
    "    - Windows : \\n\n",
    "    - Linux ：\\r\\n"
   ]
  },
  {
   "cell_type": "code",
   "execution_count": 6,
   "metadata": {},
   "outputs": [
    {
     "name": "stdout",
     "output_type": "stream",
     "text": [
      "i love xxx\n"
     ]
    }
   ],
   "source": [
    "s = \"i love xxx\"\n",
    "print(s)"
   ]
  },
  {
   "cell_type": "code",
   "execution_count": 5,
   "metadata": {},
   "outputs": [
    {
     "name": "stdout",
     "output_type": "stream",
     "text": [
      "let's go\n",
      "let's go\n",
      "c\\user\n",
      "i love \r\n",
      " xxx\n"
     ]
    }
   ],
   "source": [
    "#如果想表示let's go\n",
    "#1.可以使用嵌套引号，即外层使用双引号\n",
    "s = \"let's go\"\n",
    "print(s)\n",
    "\n",
    "#2.使用转义字符\n",
    "ss = 'let\\'s go'\n",
    "print(ss)\n",
    "\n",
    "#\\\\ = \\\n",
    "sss = 'c\\\\user'\n",
    "print(sss)\n",
    "\n",
    "#回车换行符\n",
    "s1 = 'i love \\r\\n xxx'\n",
    "print(s1)"
   ]
  },
  {
   "cell_type": "markdown",
   "metadata": {},
   "source": [
    "## 字符串的格式化\n",
    "- 将字符串按一定格式打印或填充\n",
    "- 格式化的两种方法\n",
    "    - 利用百分号\n",
    "    - 利用format函数"
   ]
  },
  {
   "cell_type": "markdown",
   "metadata": {},
   "source": [
    "### 利用百分号\n",
    "- 在字符串中，利用百分号%表示一个特殊的含义，表示对字符的格式化\n",
    "- %d 此处后该放入一个整数\n",
    "- %s 此处后该放入一个字符串"
   ]
  },
  {
   "cell_type": "code",
   "execution_count": 7,
   "metadata": {},
   "outputs": [
    {
     "name": "stdout",
     "output_type": "stream",
     "text": [
      "i love %s\n"
     ]
    }
   ],
   "source": [
    "s = \"i love %s\"\n",
    "print(s)\n",
    "#下面打印，直接将%s作为字符串的一个内容直接打印出来"
   ]
  },
  {
   "cell_type": "code",
   "execution_count": 8,
   "metadata": {},
   "outputs": [
    {
     "name": "stdout",
     "output_type": "stream",
     "text": [
      "i love xxx\n"
     ]
    }
   ],
   "source": [
    "print(\"i love %s\"%\"xxx\")"
   ]
  },
  {
   "cell_type": "code",
   "execution_count": 9,
   "metadata": {},
   "outputs": [
    {
     "name": "stdout",
     "output_type": "stream",
     "text": [
      "i love xxx\n"
     ]
    }
   ],
   "source": [
    "print(s%\"xxx\")"
   ]
  },
  {
   "cell_type": "code",
   "execution_count": 10,
   "metadata": {},
   "outputs": [
    {
     "name": "stdout",
     "output_type": "stream",
     "text": [
      "i am %d years old\n",
      "i am 18 years old\n"
     ]
    }
   ],
   "source": [
    "s = \"i am %d years old\"\n",
    "print(s)\n",
    "print(s%18)"
   ]
  },
  {
   "cell_type": "code",
   "execution_count": 15,
   "metadata": {},
   "outputs": [
    {
     "name": "stdout",
     "output_type": "stream",
     "text": [
      "i am %s,i am %d years old\n",
      "i am xxx,i am 18 years old\n"
     ]
    }
   ],
   "source": [
    "s = \"i am %s,i am %d years old\"\n",
    "#如果字符串中出现占位符，则有几个占位符必须用几个实际内容进行填充，或者一个也不填\n",
    "#如果出现多个占位符，则相应内容需要用括号括起来\n",
    "print(s)\n",
    "print(s%(\"xxx\",18))"
   ]
  },
  {
   "cell_type": "markdown",
   "metadata": {},
   "source": [
    "### format函数格式化字符串\n",
    "- 直接用format函数进行格式化\n",
    "- 推荐试用这种方法\n",
    "- 在使用上，以（）和：代替%号，后面用format函数完成"
   ]
  },
  {
   "cell_type": "code",
   "execution_count": 17,
   "metadata": {},
   "outputs": [
    {
     "name": "stdout",
     "output_type": "stream",
     "text": [
      "i love xxx\n",
      "i am 18 years old , i love xxx and i am 18 years old\n"
     ]
    }
   ],
   "source": [
    "s = \"i love {}\".format(\"xxx\")\n",
    "print(s)\n",
    "\n",
    "ss = \"i am {1} years old , i love {0} and i am {1} years old\".format(\"xxx\",18)\n",
    "print(ss)"
   ]
  },
  {
   "cell_type": "markdown",
   "metadata": {},
   "source": [
    "## None\n",
    "- 表示什么都没有\n",
    "- 如果函数没有返回值，可以使用返回None\n",
    "- 用来占位\n",
    "- 用来解除变量的绑定"
   ]
  },
  {
   "cell_type": "markdown",
   "metadata": {},
   "source": [
    "# 表达式\n",
    "- 由一个或者几个数字或者变量和运算符组合成的一行代码\n",
    "- 通常会返回一个结果\n",
    "# 运算符\n",
    "- 由一个以上的值经过变化得到新值的过程就叫运算\n",
    "- 运算符分类\n",
    "    - 算术运算符\n",
    "    - 比较或者关系运算符\n",
    "    - 赋值运算符\n",
    "    - 逻辑运算符\n",
    "    - 位运算\n",
    "    - 成员运算\n",
    "    - 身份运算符"
   ]
  },
  {
   "cell_type": "markdown",
   "metadata": {},
   "source": [
    "## 算术运算符\n",
    "- 进行算术运算的符号\n",
    "- python没有自增自减运算符"
   ]
  },
  {
   "cell_type": "code",
   "execution_count": 19,
   "metadata": {},
   "outputs": [
    {
     "name": "stdout",
     "output_type": "stream",
     "text": [
      "10\n",
      "36\n",
      "2.25\n",
      "1\n",
      "2\n",
      "6561\n"
     ]
    }
   ],
   "source": [
    "# +，-跟正常的运算符一样\n",
    "a = 9 + 3 - 2\n",
    "print(a)\n",
    "\n",
    "# 乘号用星号（*）代替\n",
    "a = 9 * 4\n",
    "print(a)\n",
    "\n",
    "# 除号用斜杠（/）代替\n",
    "# 在python2.X和python3.X中，除号（/）结果可能不一致，此处以3为准\n",
    "a = 9 / 4\n",
    "print(a)\n",
    "\n",
    "# % 取余运算\n",
    "# 两个数字相除，会有商数和余数\n",
    "# % 只会得到余数\n",
    "a = 9 % 4\n",
    "print(a)\n",
    "\n",
    "# // 表示取商运算\n",
    "a = 9 // 4\n",
    "print(a)\n",
    "\n",
    "# ** 表示幂运算\n",
    "a = 9 ** 4\n",
    "print(a)"
   ]
  },
  {
   "cell_type": "markdown",
   "metadata": {},
   "source": [
    "## 比较运算符\n",
    "- 对两个变量或者值进行比较的运算符\n",
    "- 比较的结果是布尔值，即Ture/False"
   ]
  },
  {
   "cell_type": "code",
   "execution_count": 21,
   "metadata": {},
   "outputs": [
    {
     "name": "stdout",
     "output_type": "stream",
     "text": [
      "False\n",
      "True\n"
     ]
    }
   ],
   "source": [
    "# == ，等于号（判断是否相等）\n",
    "a = 3 ** 4\n",
    "# 下面语句执行顺序是\n",
    "# 1.计算a == 88\n",
    "# 2.把结果放入b中\n",
    "b = a == 88\n",
    "print(b)\n",
    "\n",
    "# != 不等于号\n",
    "print(9 != 8)\n",
    "\n",
    "# < 小于\n",
    "# > 大于\n",
    "# >= 大于等于\n",
    "# <= 小于等于"
   ]
  },
  {
   "cell_type": "markdown",
   "metadata": {},
   "source": [
    "## 赋值运算符"
   ]
  },
  {
   "cell_type": "code",
   "execution_count": 22,
   "metadata": {},
   "outputs": [
    {
     "name": "stdout",
     "output_type": "stream",
     "text": [
      "7\n"
     ]
    }
   ],
   "source": [
    "# = ，赋值\n",
    "a = 0\n",
    "c = a = 4\n",
    "\n",
    "# += ,是缩写\n",
    "a = 0 \n",
    "a += 7 # a = a += 7的缩写\n",
    "print(a)\n",
    "\n",
    "# 所有的数学运算符都有缩写形式\n",
    "# -=， *=， /=， //=， %=， **=，都是缩写形式"
   ]
  },
  {
   "cell_type": "markdown",
   "metadata": {},
   "source": [
    "# 逻辑运算符\n",
    "- 对布尔值进行计算的符号\n",
    "- and 逻辑与\n",
    "- or 逻辑或\n",
    "- not 逻辑非\n",
    "- python中逻辑运算没有异或运算\n",
    "- 运算规则：\n",
    "    - and看作乘法，or看作加法，\n",
    "    - Ture看作1，False看作0\n",
    "    - 则逻辑运算就能转换成整数数学运算\n",
    "    - 最后结果如果是0则为False，否则为True\n",
    "- 逻辑运算的短路问题\n",
    "    - 逻辑运算式，按照运算顺序计算，一旦能够确定整个式子未来的值，则不再进行计算，直接返回"
   ]
  },
  {
   "cell_type": "code",
   "execution_count": 24,
   "metadata": {},
   "outputs": [
    {
     "name": "stdout",
     "output_type": "stream",
     "text": [
      "True\n",
      "True\n"
     ]
    }
   ],
   "source": [
    "# 逻辑运算符案例\n",
    "a = True\n",
    "b = False\n",
    "c = True\n",
    "\n",
    "# 以下式子等价于 d = 1 * 0 + 1\n",
    "d = a and b or c\n",
    "print(d)\n",
    "\n",
    "d = a or b and a\n",
    "print(d)\n"
   ]
  },
  {
   "cell_type": "code",
   "execution_count": 27,
   "metadata": {},
   "outputs": [
    {
     "name": "stdout",
     "output_type": "stream",
     "text": [
      "True\n"
     ]
    }
   ],
   "source": [
    "# 逻辑运算的短路运算\n",
    "\n",
    "# 下面逻辑表达式，a的值一定是True，则运行到or的时候，整个表达式不再向下计算\n",
    "a = True or xxx\n",
    "print(a)\n"
   ]
  },
  {
   "cell_type": "markdown",
   "metadata": {},
   "source": [
    "# 成员运算符号\n",
    "- 用来检测某一个变量是否是另一个变量的成员\n",
    "- in\n",
    "- not in"
   ]
  },
  {
   "cell_type": "code",
   "execution_count": 30,
   "metadata": {},
   "outputs": [
    {
     "name": "stdout",
     "output_type": "stream",
     "text": [
      "False\n",
      "True\n",
      "False\n"
     ]
    }
   ],
   "source": [
    "# 案例\n",
    "l = [1,2,3,4,5]\n",
    "a = 7\n",
    "b = a in l\n",
    "print(b\n",
    "     )\n",
    "a = 4\n",
    "print(a in l)\n",
    "\n",
    "print(a not in l)"
   ]
  },
  {
   "cell_type": "markdown",
   "metadata": {},
   "source": [
    "## 身份运算\n",
    "- is : 用来检测两个变量是否是同一个变量\n",
    "    - 语法就是 var1 is var2\n",
    "- is not : 两个变量不是同一个变量"
   ]
  },
  {
   "cell_type": "code",
   "execution_count": 31,
   "metadata": {},
   "outputs": [
    {
     "name": "stdout",
     "output_type": "stream",
     "text": [
      "True\n",
      "False\n"
     ]
    }
   ],
   "source": [
    "a = 9\n",
    "b = 9\n",
    "print(a is b)\n",
    "\n",
    "a = \"i love xxx\"\n",
    "b = \"i love xxx\"\n",
    "print(a is b)"
   ]
  },
  {
   "cell_type": "markdown",
   "metadata": {},
   "source": [
    "## 运算符的优先级问题\n",
    "- 永远记住，（）括号具有最高优先级\n",
    "- 优先级表格\n",
    "\n",
    "            ** 指数（最高优先级）\n",
    "            ~ + - 按位翻转，一元加号和减号（最后两个的方法名为 +@ 和 -@）\n",
    "            * / % //   乘，除，取余，取整\n",
    "            + -  加减法\n",
    "            >> <<  右移，左移运算符\n",
    "            & 位‘AND’\n",
    "            ^| 位运算符\n",
    "            <= < > >=  比较运算符\n",
    "            <> == != 等于运算符\n",
    "            = %= /= //= += -= *= **=    赋值运算符\n",
    "            is is not    身份运算符\n",
    "            in not in    成员运算符\n",
    "            not or and   逻辑运算符"
   ]
  },
  {
   "cell_type": "markdown",
   "metadata": {},
   "source": [
    "# 程序结构\n",
    "- 顺序\n",
    "- 分支\n",
    "- 循环"
   ]
  },
  {
   "cell_type": "markdown",
   "metadata": {},
   "source": [
    "### 转下一章节"
   ]
  }
 ],
 "metadata": {
  "kernelspec": {
   "display_name": "Python 3",
   "language": "python",
   "name": "python3"
  },
  "language_info": {
   "codemirror_mode": {
    "name": "ipython",
    "version": 3
   },
   "file_extension": ".py",
   "mimetype": "text/x-python",
   "name": "python",
   "nbconvert_exporter": "python",
   "pygments_lexer": "ipython3",
   "version": "3.7.0"
  }
 },
 "nbformat": 4,
 "nbformat_minor": 2
}
