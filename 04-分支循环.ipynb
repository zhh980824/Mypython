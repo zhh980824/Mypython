{
 "cells": [
  {
   "cell_type": "markdown",
   "metadata": {},
   "source": [
    "# 三大结构\n",
    "- 顺序\n",
    "- 分支\n",
    "- 循环"
   ]
  },
  {
   "cell_type": "markdown",
   "metadata": {},
   "source": [
    "## 分支\n",
    "- 分支的基本语法\n",
    "\n",
    "            if 条件表达式：\n",
    "                语句1\n",
    "                语句2\n",
    "                语句3\n",
    "                ……\n",
    "- 条件表达式就是计算结果必须为布尔值的表达式\n",
    "- 表达式后面的冒号必不可少\n",
    "- 注意if后面出现的语句，如果属于if语句块，则必须同一个缩进等级\n",
    "- 条件表达式结果为True执行if后面的缩进的语句块"
   ]
  },
  {
   "cell_type": "code",
   "execution_count": 1,
   "metadata": {},
   "outputs": [
    {
     "name": "stdout",
     "output_type": "stream",
     "text": [
      "去叫家长\n",
      "我们不带你玩\n",
      "拜拜\n"
     ]
    }
   ],
   "source": [
    "# if语句练习\n",
    "# 如果age小于18岁，则打印信息“去叫家长”\n",
    "age = 17\n",
    "if age < 18:\n",
    "    print(\"去叫家长\")\n",
    "    print(\"我们不带你玩\")\n",
    "    print(\"拜拜\")"
   ]
  },
  {
   "cell_type": "code",
   "execution_count": 2,
   "metadata": {},
   "outputs": [
    {
     "name": "stdout",
     "output_type": "stream",
     "text": [
      "开车了，老司机们\n"
     ]
    }
   ],
   "source": [
    "# if语句练习\n",
    "# 如果age小于18岁，则打印信息“去叫家长”\n",
    "# 注意缩进等级！！！\n",
    "age = 19\n",
    "if age < 18:\n",
    "    print(\"去叫家长\")\n",
    "    print(\"我们不带你玩\")\n",
    "    print(\"拜拜\")\n",
    "\n",
    "print(\"开车了，老司机们\")"
   ]
  },
  {
   "cell_type": "markdown",
   "metadata": {},
   "source": [
    "### 双向分支\n",
    "- if...else...语句\n",
    "\n",
    "            if 条件表达式：\n",
    "                语句1\n",
    "                语句2\n",
    "                语句3\n",
    "                ……\n",
    "            else：\n",
    "                语句1\n",
    "                语句2\n",
    "                语句3\n",
    "                ……\n",
    "- 双向分支有两个分支，当程序执行到if...else...语句的时候，一定会执行if或else中的一个，也仅执行一个\n",
    "- 缩进问题，if和else是一个层级，其余语句一个层级"
   ]
  },
  {
   "cell_type": "code",
   "execution_count": null,
   "metadata": {},
   "outputs": [],
   "source": [
    "# input的作用是\n",
    "#1. 在屏幕上输出括号内的字符串\n",
    "#2. 接受用户输入的内容并返回到程序\n",
    "#3. input返回的内容一定是字符串类型\n",
    "gender = input(\"请输入性别：\")\n",
    "print(\"你输入的性别是：{0}\".format(gender))\n",
    "\n",
    "if gender == \"nan\":\n",
    "    print(\"来，抄十遍代码\")\n",
    "else:\n",
    "    print(\"来，叔叔给你糖吃\")\n",
    "\n",
    "print(\"好了，我们一起玩吧\")"
   ]
  },
  {
   "cell_type": "code",
   "execution_count": null,
   "metadata": {},
   "outputs": [],
   "source": [
    "# 考试成绩\n",
    "# 90以上：优\n",
    "# 80-90：良\n",
    "# 70-80：中\n",
    "# 60-70：及格\n",
    "# 60以下：差\n",
    "score = input(\"请输入学生成绩：\")\n",
    "# 需要把str转换成int\n",
    "score = int(score)\n",
    "\n",
    "if score>=90:\n",
    "    print(\"优\")\n",
    "if score>=80 and score<90:\n",
    "    print(\"良\")\n",
    "if score>=70 and score<80:\n",
    "    print(\"中\")\n",
    "if score>=60 and score<70:\n",
    "    print(\"及格\")\n",
    "if score<60:\n",
    "    print(\"不及格\")"
   ]
  },
  {
   "cell_type": "markdown",
   "metadata": {},
   "source": [
    "## 多路分支\n",
    "- 很多分支的情况，简称多路分支\n",
    "\n",
    "            if 条件表达式：\n",
    "                语句\n",
    "                ……\n",
    "            elif 条件表达式：\n",
    "                语句\n",
    "                ……\n",
    "            elif 条件表达式：\n",
    "                语句\n",
    "                ……\n",
    "            ……\n",
    "            else：\n",
    "                语句\n",
    "                ……\n",
    "                \n",
    "- elid可以有很多个\n",
    "- else可选\n",
    "- 多路分支只会选一个执行"
   ]
  },
  {
   "cell_type": "code",
   "execution_count": 1,
   "metadata": {},
   "outputs": [
    {
     "name": "stdout",
     "output_type": "stream",
     "text": [
      "请输入学生成绩：85\n",
      "良\n"
     ]
    }
   ],
   "source": [
    "# 考试成绩\n",
    "# 90以上：优\n",
    "# 80-90：良\n",
    "# 70-80：中\n",
    "# 60-70：及格\n",
    "# 60以下：差\n",
    "score = input(\"请输入学生成绩：\")\n",
    "# 需要把str转换成int\n",
    "score = int(score)\n",
    "\n",
    "if score>=90:\n",
    "    print(\"优\")\n",
    "elif score>=80:\n",
    "    print(\"良\")\n",
    "elif score>=70:\n",
    "    print(\"中\")\n",
    "elif score>=60<70:\n",
    "    print(\"及格\")\n",
    "else:\n",
    "    print(\"不及格\")"
   ]
  },
  {
   "cell_type": "markdown",
   "metadata": {},
   "source": [
    "## if语句其他：\n",
    "- if语句可以嵌套使用，但不推荐\n",
    "- python没有switch-case语句"
   ]
  },
  {
   "cell_type": "markdown",
   "metadata": {},
   "source": [
    "# 循环语句\n",
    "- 重复执行某些固定动作或者处理基本固定的事务\n",
    "- 分类\n",
    "    - for循环\n",
    "    - while循环\n",
    "## for循环\n",
    "- for循环\n",
    "\n",
    "        for 变量 in 序列：\n",
    "            语句1\n",
    "            语句2\n",
    "            ……"
   ]
  },
  {
   "cell_type": "code",
   "execution_count": 2,
   "metadata": {},
   "outputs": [
    {
     "name": "stdout",
     "output_type": "stream",
     "text": [
      "zhangsan\n",
      "lisi\n",
      "wangwu\n",
      "liumazi\n"
     ]
    }
   ],
   "source": [
    "# 列表就是一系列数字或者其他值，一般用中括号表示\n",
    "# 例如 ['zhangsan','lisi','wangwu','liumazi']\n",
    "\n",
    "# 打印名字列表\n",
    "for name in ['zhangsan','lisi','wangwu','liumazi']:\n",
    "    print(name)"
   ]
  },
  {
   "cell_type": "code",
   "execution_count": 4,
   "metadata": {},
   "outputs": [
    {
     "name": "stdout",
     "output_type": "stream",
     "text": [
      "zhangsan\n",
      "zhangsan我不喜欢你，我们不约\n",
      "lisi\n",
      "lisi我不喜欢你，我们不约\n",
      "wangwu\n",
      "wangwu我不喜欢你，我们不约\n",
      "xxx\n",
      "xxx我喜欢你！\n"
     ]
    }
   ],
   "source": [
    "# 打印名字列表\n",
    "# 如果是xxx，那是我喜欢的人啊\n",
    "# 如果不是，那就要冷酷的拒绝他\n",
    "for name in ['zhangsan','lisi','wangwu','xxx']:\n",
    "    print(name)\n",
    "    if name == \"xxx\":\n",
    "        print(\"{0}我喜欢你！\".format(name))\n",
    "    else:\n",
    "        print(\"{0}我不喜欢你，我们不约\".format(name))"
   ]
  },
  {
   "cell_type": "markdown",
   "metadata": {},
   "source": [
    "## range介绍\n",
    "- 生成一个数字序列\n",
    "- 具体范围可以设定"
   ]
  },
  {
   "cell_type": "code",
   "execution_count": 12,
   "metadata": {},
   "outputs": [
    {
     "name": "stdout",
     "output_type": "stream",
     "text": [
      "例一\n",
      "1\n",
      "2\n",
      "3\n",
      "4\n",
      "5\n",
      "6\n",
      "7\n",
      "8\n",
      "9\n",
      "例二\n",
      "1\n",
      "2\n",
      "3\n",
      "4\n",
      "5\n",
      "6\n",
      "7\n",
      "8\n",
      "9\n",
      "10\n"
     ]
    }
   ],
   "source": [
    "# range练习\n",
    "# 打印1-10的数字\n",
    "# 注意，一般再python中，如果有表示数字范围的两个数，一般是包含左边数字不包含右边数字\n",
    "# randint是特例，它左右都包含\n",
    "# 注意下面两个实例\n",
    "print(\"例一\")\n",
    "for i in range(1,10):\n",
    "    print(i)\n",
    "\n",
    "print(\"例二\")\n",
    "for j in range(1,11):\n",
    "    print(j)"
   ]
  },
  {
   "cell_type": "markdown",
   "metadata": {},
   "source": [
    "## for-else语句\n",
    "- 当for循环结束的时候，会执行else语句\n",
    "- else语句是可选语句"
   ]
  },
  {
   "cell_type": "code",
   "execution_count": 14,
   "metadata": {},
   "outputs": [
    {
     "name": "stdout",
     "output_type": "stream",
     "text": [
      "zhangsan\n",
      "zhangsan我不喜欢你，我们不约\n",
      "lisi\n",
      "lisi我不喜欢你，我们不约\n",
      "wangwu\n",
      "wangwu我不喜欢你，我们不约\n",
      "xxx\n",
      "xxx我喜欢你！\n",
      "别的我都不喜欢，拜拜\n"
     ]
    }
   ],
   "source": [
    "# for-else语句实例\n",
    "# 打印列表中的姓名\n",
    "# 如果没有在列表中，或者列表结束了，我们需要打印语句，表示结束\n",
    "\n",
    "# 打印名字列表\n",
    "# 如果是xxx，那是我喜欢的人啊\n",
    "# 如果不是，那就要冷酷的拒绝他\n",
    "for name in ['zhangsan','lisi','wangwu','xxx']:\n",
    "    print(name)\n",
    "    if name == \"xxx\":\n",
    "        print(\"{0}我喜欢你！\".format(name))\n",
    "    else:\n",
    "        print(\"{0}我不喜欢你，我们不约\".format(name))\n",
    "else:\n",
    "    print(\"别的我都不喜欢，拜拜\")"
   ]
  },
  {
   "cell_type": "markdown",
   "metadata": {},
   "source": [
    "## 循环之break,continue,pass\n",
    "- break: 无条件结束整个循环,简称循环猝死\n",
    "- continue: 无条件结束本次循环，重新进入下一轮循环\n",
    "- pass：表示路过，通常用于占位"
   ]
  },
  {
   "cell_type": "code",
   "execution_count": 15,
   "metadata": {},
   "outputs": [
    {
     "name": "stdout",
     "output_type": "stream",
     "text": [
      "1不是7\n",
      "2不是7\n",
      "3不是7\n",
      "4不是7\n",
      "5不是7\n",
      "6不是7\n",
      "我找到了！\n"
     ]
    }
   ],
   "source": [
    "# 在1-10中，寻找数字7，一旦找到，则打印，其余什么都不做\n",
    "# for循环中的变量表示，一般用i,k,m,n,或者indx,idx,item之类\n",
    "# 在python中，如果循环变量名称不重要，可以用下划线(_)代替\n",
    "\n",
    "for i in range(1,11):\n",
    "    if i == 7:\n",
    "        print(\"我找到了！\")\n",
    "        break\n",
    "    else:\n",
    "        print(\"{0}不是7\".format(i))"
   ]
  },
  {
   "cell_type": "code",
   "execution_count": 16,
   "metadata": {},
   "outputs": [
    {
     "name": "stdout",
     "output_type": "stream",
     "text": [
      "2是偶数\n",
      "4是偶数\n",
      "6是偶数\n",
      "8是偶数\n",
      "10是偶数\n"
     ]
    }
   ],
   "source": [
    "# comtinue语句\n",
    "# 在1-10中，寻找所有偶数，找到偶数后打印偶数\n",
    "for i in range(1,11):\n",
    "    if i % 2 == 1:\n",
    "        continue\n",
    "    else:\n",
    "        print(\"{0}是偶数\".format(i))"
   ]
  },
  {
   "cell_type": "code",
   "execution_count": 17,
   "metadata": {},
   "outputs": [
    {
     "name": "stdout",
     "output_type": "stream",
     "text": [
      "2是偶数\n",
      "4是偶数\n",
      "6是偶数\n",
      "8是偶数\n",
      "10是偶数\n"
     ]
    }
   ],
   "source": [
    "# comtinue语句\n",
    "# 在1-10中，寻找所有偶数，找到偶数后打印偶数\n",
    "for i in range(1,11):\n",
    "    if i % 2 == 0:\n",
    "        print(\"{0}是偶数\".format(i))\n",
    "# 推荐这种写法"
   ]
  },
  {
   "cell_type": "code",
   "execution_count": 18,
   "metadata": {},
   "outputs": [
    {
     "name": "stdout",
     "output_type": "stream",
     "text": [
      "2是偶数\n",
      "4是偶数\n",
      "6是偶数\n",
      "8是偶数\n",
      "10是偶数\n"
     ]
    }
   ],
   "source": [
    "# comtinue语句\n",
    "# 在1-10中，寻找所有偶数，找到偶数后打印偶数\n",
    "for i in range(1,11):\n",
    "    if i % 2 == 1:\n",
    "        continue\n",
    "        \n",
    "    print(\"{0}是偶数\".format(i))"
   ]
  },
  {
   "cell_type": "code",
   "execution_count": null,
   "metadata": {},
   "outputs": [],
   "source": [
    "# pass例子，一般用于占位\n",
    "# pass没有跳过功能\n",
    "for i in range(1,11):\n",
    "    pass"
   ]
  }
 ],
 "metadata": {
  "kernelspec": {
   "display_name": "Python 3",
   "language": "python",
   "name": "python3"
  },
  "language_info": {
   "codemirror_mode": {
    "name": "ipython",
    "version": 3
   },
   "file_extension": ".py",
   "mimetype": "text/x-python",
   "name": "python",
   "nbconvert_exporter": "python",
   "pygments_lexer": "ipython3",
   "version": "3.7.0"
  }
 },
 "nbformat": 4,
 "nbformat_minor": 2
}
