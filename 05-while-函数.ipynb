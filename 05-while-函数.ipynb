{
 "cells": [
  {
   "cell_type": "markdown",
   "metadata": {},
   "source": [
    "# while循环\n",
    "- 一个循环语句\n",
    "- 表示当某条件成立的时候，就循环\n",
    "- 不知道具体循环次数，但能确定循环的成立条件的时候用while循环\n",
    "- while语法\n",
    "        \n",
    "        while 条件表达式：\n",
    "            语句块\n",
    "- while的另外一种表达方法\n",
    "\n",
    "        while 条件表达式:\n",
    "            语句块\n",
    "        else:\n",
    "            语句块"
   ]
  },
  {
   "cell_type": "code",
   "execution_count": 3,
   "metadata": {},
   "outputs": [
    {
     "name": "stdout",
     "output_type": "stream",
     "text": [
      "第1年能拿到106700.0块钱\n",
      "第2年能拿到113848.9块钱\n",
      "第3年能拿到121476.77629999998块钱\n",
      "第4年能拿到129615.72031209998块钱\n",
      "第5年能拿到138299.97357301068块钱\n",
      "第6年能拿到147566.07180240238块钱\n",
      "第7年能拿到157452.99861316333块钱\n",
      "第8年能拿到168002.34952024528块钱\n",
      "第9年能拿到179258.5069381017块钱\n",
      "第10年能拿到191268.8269029545块钱\n",
      "第11年能拿到204083.83830545243块钱\n"
     ]
    }
   ],
   "source": [
    "# 如果说年利率是6.7%,本利是每年翻滚,则多少年后本钱会翻倍\n",
    "benqian = 100000\n",
    "year = 0\n",
    "while benqian < 200000:\n",
    "    benqian = benqian * 1.067\n",
    "    year += 1\n",
    "    print(\"第{0}年能拿到{1}块钱\".format(year,benqian))\n",
    "    "
   ]
  },
  {
   "cell_type": "code",
   "execution_count": 5,
   "metadata": {},
   "outputs": [
    {
     "name": "stdout",
     "output_type": "stream",
     "text": [
      "第1年能拿到106700.0块钱\n",
      "第2年能拿到113848.9块钱\n",
      "第3年能拿到121476.77629999998块钱\n",
      "第4年能拿到129615.72031209998块钱\n",
      "第5年能拿到138299.97357301068块钱\n",
      "第6年能拿到147566.07180240238块钱\n",
      "第7年能拿到157452.99861316333块钱\n",
      "第8年能拿到168002.34952024528块钱\n",
      "第9年能拿到179258.5069381017块钱\n",
      "第10年能拿到191268.8269029545块钱\n",
      "第11年能拿到204083.83830545243块钱\n",
      "终于翻倍了,真不容易\n"
     ]
    }
   ],
   "source": [
    "# 如果说年利率是6.7%,本利是每年翻滚,则多少年后本钱会翻倍\n",
    "# 如果拿到的钱翻倍,则用print庆祝下\n",
    "benqian = 100000\n",
    "year = 0\n",
    "while benqian < 200000:\n",
    "    benqian = benqian * 1.067\n",
    "    year += 1\n",
    "    print(\"第{0}年能拿到{1}块钱\".format(year,benqian))\n",
    "else:\n",
    "    print(\"终于翻倍了,真不容易\")"
   ]
  },
  {
   "cell_type": "markdown",
   "metadata": {},
   "source": [
    "# 函数\n",
    "- 代码的一种组织形式\n",
    "- 一个函数一般完成一项特定的功能\n",
    "- 函数使用\n",
    "    - 函数需要定义\n",
    "    - 使用函数,俗称调用"
   ]
  },
  {
   "cell_type": "code",
   "execution_count": 6,
   "metadata": {},
   "outputs": [],
   "source": [
    "# 定义一个函数\n",
    "# 只是定义的话不会执行\n",
    "# 1.def关键字,后面有个空格\n",
    "# 2.函数名,自己定义,起名需要遵循便令命名规则,约定俗成,大驼峰命名只给类用\n",
    "def func():\n",
    "    print(\"我是一个函数\")\n",
    "    print(\"我要完成一项功能\")\n",
    "    print(\"我结束了\")"
   ]
  },
  {
   "cell_type": "code",
   "execution_count": 7,
   "metadata": {},
   "outputs": [
    {
     "name": "stdout",
     "output_type": "stream",
     "text": [
      "我是一个函数\n",
      "我要完成一项功能\n",
      "我结束了\n"
     ]
    }
   ],
   "source": [
    "# 函数的调用\n",
    "# 直接函数名后面跟括号\n",
    "func()"
   ]
  },
  {
   "cell_type": "markdown",
   "metadata": {},
   "source": [
    "## 函数的参数和返回值\n",
    "- 参数:负责给函数传递一些必要的数据信息\n",
    "    - 形参(形式参数):在函数定义的时候用到的参数没有具体值,只是一个占位符号,所谓形参\n",
    "    - 实参(实际参数):在调用函数的时候输入的值\n",
    "- 返回值:函数的执行结果\n",
    "    - 使用return关键字\n",
    "    - 如果没有return,则默认返回一个None\n",
    "    - 函数一旦执行return语句,则无条件返回,即结束函数的执行"
   ]
  },
  {
   "cell_type": "code",
   "execution_count": 12,
   "metadata": {},
   "outputs": [
    {
     "name": "stdout",
     "output_type": "stream",
     "text": [
      "明月,你怎么了\n",
      "你不要不说话呀\n"
     ]
    }
   ],
   "source": [
    "# 参数的定义和使用\n",
    "# 参数person只是一个符号,代表的是调用的时候的某一个数据\n",
    "# 调用的时候,会用p的值代替函数中的所有person\n",
    "def hello(person):\n",
    "    print(\"{0},你怎么了\".format(person))\n",
    "    print(\"你不要不说话呀\")\n",
    "\n",
    "a = \"明月\"\n",
    "hello(a)"
   ]
  },
  {
   "cell_type": "code",
   "execution_count": 11,
   "metadata": {},
   "outputs": [
    {
     "name": "stdout",
     "output_type": "stream",
     "text": [
      "明月,你怎么了\n",
      "你不要不说话呀\n",
      "我已经和明月打过招呼了,但是明月不理我\n"
     ]
    }
   ],
   "source": [
    "# return语句的基本使用\n",
    "# 函数打完招呼后返回一句话\n",
    "def hello(person):\n",
    "    print(\"{0},你怎么了\".format(person))\n",
    "    print(\"你不要不说话呀\")\n",
    "    return \"我已经和{0}打过招呼了,但是{1}不理我\".format(person,person)\n",
    "a = \"明月\"\n",
    "rst = hello(a)\n",
    "print(rst)"
   ]
  },
  {
   "cell_type": "code",
   "execution_count": 15,
   "metadata": {},
   "outputs": [
    {
     "name": "stdout",
     "output_type": "stream",
     "text": [
      "明月,你怎么了\n",
      "哈哈哈,我提前结束了\n"
     ]
    }
   ],
   "source": [
    "# return案例2\n",
    "def hello(person):\n",
    "    print(\"{0},你怎么了\".format(person))\n",
    "    return \"哈哈哈,我提前结束了\"\n",
    "    print(\"你不要不说话呀\")\n",
    "    return \"我已经和{0}打过招呼了,但是{1}不理我\".format(person,person)\n",
    "a = \"明月\"\n",
    "rst = hello(a)\n",
    "print(rst)"
   ]
  },
  {
   "cell_type": "code",
   "execution_count": 16,
   "metadata": {},
   "outputs": [
    {
     "name": "stdout",
     "output_type": "stream",
     "text": [
      "Help on built-in function print in module builtins:\n",
      "\n",
      "print(...)\n",
      "    print(value, ..., sep=' ', end='\\n', file=sys.stdout, flush=False)\n",
      "    \n",
      "    Prints the values to a stream, or to sys.stdout by default.\n",
      "    Optional keyword arguments:\n",
      "    file:  a file-like object (stream); defaults to the current sys.stdout.\n",
      "    sep:   string inserted between values, default a space.\n",
      "    end:   string appended after the last value, default a newline.\n",
      "    flush: whether to forcibly flush the stream.\n",
      "\n"
     ]
    }
   ],
   "source": [
    "# 查找函数帮助文档\n",
    "# 1.用help函数\n",
    "help(print)"
   ]
  },
  {
   "cell_type": "code",
   "execution_count": 21,
   "metadata": {},
   "outputs": [
    {
     "name": "stdout",
     "output_type": "stream",
     "text": [
      "1 \n",
      "2 4 \n",
      "3 6 9 \n",
      "4 8 12 16 \n",
      "5 10 15 20 25 \n",
      "6 12 18 24 30 36 \n",
      "7 14 21 28 35 42 49 \n",
      "8 16 24 32 40 48 56 64 \n",
      "9 18 27 36 45 54 63 72 81 \n"
     ]
    }
   ],
   "source": [
    "# 九九乘法表\n",
    "for hang in range(1,10):\n",
    "    # 打印一行\n",
    "    for lie in range(1,hang+1):\n",
    "        # print函数默认任务打印完毕后换行\n",
    "        print(hang * lie, end = \" \")\n",
    "    print(\"\")"
   ]
  },
  {
   "cell_type": "code",
   "execution_count": 22,
   "metadata": {},
   "outputs": [
    {
     "name": "stdout",
     "output_type": "stream",
     "text": [
      "1 \n",
      "2 4 \n",
      "3 6 9 \n",
      "4 8 12 16 \n",
      "5 10 15 20 25 \n",
      "6 12 18 24 30 36 \n",
      "7 14 21 28 35 42 49 \n",
      "8 16 24 32 40 48 56 64 \n",
      "9 18 27 36 45 54 63 72 81 \n"
     ]
    }
   ],
   "source": [
    "# 定义一个函数,打印一行九九乘法表\n",
    "def printLine(hang):\n",
    "    for lie in range(1,hang+1):\n",
    "        print(hang * lie, end = \" \")\n",
    "    print(\"\")\n",
    "for hang in range(1,10):\n",
    "    printLine(hang)"
   ]
  },
  {
   "cell_type": "markdown",
   "metadata": {},
   "source": [
    "## 参数详解\n",
    "- [参考资料]{http://www.cnblogs.com/bingabcd/p/6671368.html}\n",
    "- python参考资料: headfirst python -> 零基础入门学习python(小甲鱼) -> 习题 -> 后期考虑腾讯公开免费课\n",
    "- 参数分类\n",
    "    - 普通参数\n",
    "    - 默认参数\n",
    "    - 关键字参数\n",
    "    - 收集参数\n",
    "- 普通参数\n",
    "    "
   ]
  },
  {
   "cell_type": "code",
   "execution_count": null,
   "metadata": {},
   "outputs": [],
   "source": []
  }
 ],
 "metadata": {
  "kernelspec": {
   "display_name": "Python 3",
   "language": "python",
   "name": "python3"
  },
  "language_info": {
   "codemirror_mode": {
    "name": "ipython",
    "version": 3
   },
   "file_extension": ".py",
   "mimetype": "text/x-python",
   "name": "python",
   "nbconvert_exporter": "python",
   "pygments_lexer": "ipython3",
   "version": "3.7.0"
  }
 },
 "nbformat": 4,
 "nbformat_minor": 2
}
